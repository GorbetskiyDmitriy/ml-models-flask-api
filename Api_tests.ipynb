{
 "cells": [
  {
   "cell_type": "code",
   "execution_count": 1,
   "metadata": {
    "ExecuteTime": {
     "end_time": "2021-11-01T08:47:02.415399Z",
     "start_time": "2021-11-01T08:47:00.225227Z"
    }
   },
   "outputs": [],
   "source": [
    "import requests\n",
    "from sklearn.datasets import make_classification\n",
    "import numpy as np\n",
    "import pandas as pd\n",
    "import shutil\n",
    "from PIL import Image\n",
    "\n",
    "from sklearn.model_selection import train_test_split"
   ]
  },
  {
   "cell_type": "code",
   "execution_count": 2,
   "metadata": {
    "ExecuteTime": {
     "end_time": "2021-11-01T08:47:02.439948Z",
     "start_time": "2021-11-01T08:47:02.418371Z"
    }
   },
   "outputs": [],
   "source": [
    "X, y = make_classification(n_samples=1000, n_features=4, n_classes=2, n_informative=2, random_state=42)\n",
    "X_multi, y_multi = make_classification(n_samples=500, n_features=6, n_classes=3, n_informative=6,\n",
    "                                      n_redundant=0, random_state=42)\n",
    "\n",
    "X_train, X_test, y_train, y_test = train_test_split(X, y, test_size=0.2, random_state=42)\n",
    "\n",
    "Xm_train, Xm_test, ym_train, ym_test = train_test_split(X_multi, y_multi, test_size=0.2, random_state=42,\n",
    "                                                       stratify=y_multi)\n",
    "\n",
    "\n",
    "X_train, X_test, y_train, y_test = pd.DataFrame(X_train).to_dict(), pd.DataFrame(X_test).to_dict(), \\\n",
    "                                   pd.DataFrame(y_train).to_dict(), pd.DataFrame(y_test).to_dict()\n",
    "\n",
    "Xm_train, Xm_test, ym_train, ym_test = pd.DataFrame(Xm_train).to_dict(), pd.DataFrame(Xm_test).to_dict(), \\\n",
    "                                       pd.DataFrame(ym_train).to_dict(), pd.DataFrame(ym_test).to_dict()"
   ]
  },
  {
   "cell_type": "markdown",
   "metadata": {},
   "source": [
    "# 1. Доступные типы моделей:"
   ]
  },
  {
   "cell_type": "code",
   "execution_count": 3,
   "metadata": {
    "ExecuteTime": {
     "end_time": "2021-11-01T08:47:02.465634Z",
     "start_time": "2021-11-01T08:47:02.441766Z"
    }
   },
   "outputs": [
    {
     "name": "stdout",
     "output_type": "stream",
     "text": [
      "Available model types: ['LogisticRegression (LR)', 'Boosting (LGBM)']\n"
     ]
    }
   ],
   "source": [
    "print(requests.get('http://127.0.0.1:5000/api/model_types').text)"
   ]
  },
  {
   "cell_type": "markdown",
   "metadata": {},
   "source": [
    "# 2. Создание моделей"
   ]
  },
  {
   "cell_type": "markdown",
   "metadata": {},
   "source": [
    "### 2.1 Корректный запрос, но с ошибкой в переменной"
   ]
  },
  {
   "cell_type": "code",
   "execution_count": 4,
   "metadata": {
    "ExecuteTime": {
     "end_time": "2021-11-01T08:47:02.502806Z",
     "start_time": "2021-11-01T08:47:02.467653Z"
    }
   },
   "outputs": [
    {
     "name": "stdout",
     "output_type": "stream",
     "text": [
      "Success\n",
      "Success\n",
      "Success\n"
     ]
    }
   ],
   "source": [
    "print(requests.post('http://127.0.0.1:5000/api/create_model', json={\n",
    "    'model_type': 'LR',\n",
    "    'model_nae': 'LR',\n",
    "    'dataset_name': 'binary'\n",
    "}).text)\n",
    "\n",
    "print(requests.post('http://127.0.0.1:5000/api/create_model', json={\n",
    "    'model_type': 'boosting',\n",
    "    'dataset_name': 'multiclass'\n",
    "}).text)\n",
    "\n",
    "print(requests.post('http://127.0.0.1:5000/api/create_model', json={\n",
    "    'model_name': 'fit_test',\n",
    "    'model_type': 'LogisticRegression (LR)'\n",
    "}).text)"
   ]
  },
  {
   "cell_type": "markdown",
   "metadata": {},
   "source": [
    "### 2.2 Некорректный запрос"
   ]
  },
  {
   "cell_type": "code",
   "execution_count": 5,
   "metadata": {
    "ExecuteTime": {
     "end_time": "2021-11-01T08:47:02.518813Z",
     "start_time": "2021-11-01T08:47:02.505796Z"
    }
   },
   "outputs": [
    {
     "name": "stdout",
     "output_type": "stream",
     "text": [
      "Wrong model type Tree\n",
      "Available model types: ['LogisticRegression (LR)', 'Boosting (LGBM)']\n"
     ]
    }
   ],
   "source": [
    "print(requests.post('http://127.0.0.1:5000/api/create_model', json={\n",
    "    'model_type': 'Tree',\n",
    "    'model_name': 'test_name',\n",
    "    'dataset_name': 'test_name'\n",
    "}).text)"
   ]
  },
  {
   "cell_type": "markdown",
   "metadata": {},
   "source": [
    "# 3. Принт доступных моделей"
   ]
  },
  {
   "cell_type": "markdown",
   "metadata": {},
   "source": [
    "### 3.1 Несуществующая модель"
   ]
  },
  {
   "cell_type": "code",
   "execution_count": 6,
   "metadata": {
    "ExecuteTime": {
     "end_time": "2021-11-01T08:47:02.558748Z",
     "start_time": "2021-11-01T08:47:02.520809Z"
    }
   },
   "outputs": [
    {
     "name": "stdout",
     "output_type": "stream",
     "text": [
      "Model with id - 20 doesnt exist\n"
     ]
    }
   ],
   "source": [
    "r = requests.get('http://127.0.0.1:5000/api/get_model/20')\n",
    "try: \n",
    "    print(r.json())\n",
    "except:\n",
    "    print(r.text)"
   ]
  },
  {
   "cell_type": "markdown",
   "metadata": {},
   "source": [
    "### 3.2. Правильный id модели"
   ]
  },
  {
   "cell_type": "code",
   "execution_count": 7,
   "metadata": {
    "ExecuteTime": {
     "end_time": "2021-11-01T08:47:02.592006Z",
     "start_time": "2021-11-01T08:47:02.573782Z"
    }
   },
   "outputs": [
    {
     "data": {
      "text/plain": [
       "{'dataset_name': 'binary',\n",
       " 'model': 'Fitted',\n",
       " 'model_id': 2,\n",
       " 'model_name': '',\n",
       " 'model_params': {'random_state': 42},\n",
       " 'model_type': 'LogisticRegression (LR)',\n",
       " 'scores': {'ROC_AUC': 0.5386538653865388,\n",
       "  'ROC_PR': 0.5307400985681829,\n",
       "  'accuracy': 0.505,\n",
       "  'f1': 0.5043928812795675,\n",
       "  'precision': 0.5047169811320755,\n",
       "  'recall': 0.5047004700470047}}"
      ]
     },
     "execution_count": 7,
     "metadata": {},
     "output_type": "execute_result"
    }
   ],
   "source": [
    "requests.get('http://127.0.0.1:5000/api/get_model/2').json()"
   ]
  },
  {
   "cell_type": "markdown",
   "metadata": {},
   "source": [
    "# 4. Обновление модели"
   ]
  },
  {
   "cell_type": "markdown",
   "metadata": {},
   "source": [
    "### 4.1. Вызов без словаря"
   ]
  },
  {
   "cell_type": "code",
   "execution_count": 8,
   "metadata": {
    "ExecuteTime": {
     "end_time": "2021-11-01T08:47:03.129196Z",
     "start_time": "2021-11-01T08:47:03.099631Z"
    }
   },
   "outputs": [
    {
     "name": "stdout",
     "output_type": "stream",
     "text": [
      "Dictionary should be passed.\n"
     ]
    }
   ],
   "source": [
    "print(requests.put('http://127.0.0.1:5000/api/update_model').text)"
   ]
  },
  {
   "cell_type": "markdown",
   "metadata": {},
   "source": [
    "### 4.2. Вызов с некорректным словарем"
   ]
  },
  {
   "cell_type": "code",
   "execution_count": 9,
   "metadata": {
    "ExecuteTime": {
     "end_time": "2021-11-01T08:47:03.506818Z",
     "start_time": "2021-11-01T08:47:03.484275Z"
    }
   },
   "outputs": [
    {
     "name": "stdout",
     "output_type": "stream",
     "text": [
      "Incorrect dictionary passed.\n"
     ]
    }
   ],
   "source": [
    "print(requests.put('http://127.0.0.1:5000/api/update_model', json={\n",
    "    'model_type': 'test',\n",
    "    'dataset_name': 'multi_class'\n",
    "}).text)"
   ]
  },
  {
   "cell_type": "markdown",
   "metadata": {},
   "source": [
    "### 4.3 Корректный вызов"
   ]
  },
  {
   "cell_type": "code",
   "execution_count": 10,
   "metadata": {
    "ExecuteTime": {
     "end_time": "2021-11-01T08:47:03.875873Z",
     "start_time": "2021-11-01T08:47:03.839008Z"
    }
   },
   "outputs": [
    {
     "name": "stdout",
     "output_type": "stream",
     "text": [
      "Success, but [\"Model attributes: ['model_type'] is not allowed to change\"]\n"
     ]
    }
   ],
   "source": [
    "print(requests.put('http://127.0.0.1:5000/api/update_model', json={\n",
    "    'model_id': 1,\n",
    "    'model_type': 'test',\n",
    "    'dataset_name': 'test_2'\n",
    "}).text)"
   ]
  },
  {
   "cell_type": "markdown",
   "metadata": {},
   "source": [
    "# 5. Удаление модели"
   ]
  },
  {
   "cell_type": "markdown",
   "metadata": {},
   "source": [
    "### 5.1 Correct"
   ]
  },
  {
   "cell_type": "code",
   "execution_count": 11,
   "metadata": {
    "ExecuteTime": {
     "end_time": "2021-11-01T08:47:04.354012Z",
     "start_time": "2021-11-01T08:47:04.330663Z"
    }
   },
   "outputs": [
    {
     "name": "stdout",
     "output_type": "stream",
     "text": [
      "Success\n"
     ]
    }
   ],
   "source": [
    "print(requests.delete('http://127.0.0.1:5000/api/delete_model/1').text)"
   ]
  },
  {
   "cell_type": "markdown",
   "metadata": {},
   "source": [
    "### 5.2 Incorrect"
   ]
  },
  {
   "cell_type": "code",
   "execution_count": 12,
   "metadata": {
    "ExecuteTime": {
     "end_time": "2021-11-01T08:47:04.707040Z",
     "start_time": "2021-11-01T08:47:04.696325Z"
    }
   },
   "outputs": [
    {
     "name": "stdout",
     "output_type": "stream",
     "text": [
      "Success\n"
     ]
    }
   ],
   "source": [
    "print(requests.delete('http://127.0.0.1:5000/api/delete_model/5').text)"
   ]
  },
  {
   "cell_type": "markdown",
   "metadata": {},
   "source": [
    "# 6. Установление гиперпараметров вручную"
   ]
  },
  {
   "cell_type": "markdown",
   "metadata": {},
   "source": [
    "### 6.1 Корректные гиперпараметры"
   ]
  },
  {
   "cell_type": "code",
   "execution_count": 13,
   "metadata": {
    "ExecuteTime": {
     "end_time": "2021-11-01T08:47:05.342858Z",
     "start_time": "2021-11-01T08:47:05.322299Z"
    }
   },
   "outputs": [
    {
     "name": "stdout",
     "output_type": "stream",
     "text": [
      "Success\n"
     ]
    }
   ],
   "source": [
    "print(requests.put('http://127.0.0.1:5000/api/set_model_params/2', json={'C': 2}).text)"
   ]
  },
  {
   "cell_type": "markdown",
   "metadata": {},
   "source": [
    "### 6.2 Некорректные гиперпараметры"
   ]
  },
  {
   "cell_type": "code",
   "execution_count": 14,
   "metadata": {
    "ExecuteTime": {
     "end_time": "2021-11-01T08:47:05.682124Z",
     "start_time": "2021-11-01T08:47:05.673109Z"
    }
   },
   "outputs": [
    {
     "name": "stdout",
     "output_type": "stream",
     "text": [
      "Wrong params for model\n"
     ]
    }
   ],
   "source": [
    "print(requests.put('http://127.0.0.1:5000/api/set_model_params/2', json={'abc': -1}).text)"
   ]
  },
  {
   "cell_type": "markdown",
   "metadata": {},
   "source": [
    "# 7. Доступные для оптимазации гиперпараметры"
   ]
  },
  {
   "cell_type": "markdown",
   "metadata": {},
   "source": [
    "### 7.1 Корректный тип модели"
   ]
  },
  {
   "cell_type": "code",
   "execution_count": 15,
   "metadata": {
    "ExecuteTime": {
     "end_time": "2021-11-01T08:47:06.262080Z",
     "start_time": "2021-11-01T08:47:06.236006Z"
    }
   },
   "outputs": [
    {
     "data": {
      "text/plain": [
       "['C', 'tol', 'max_iter']"
      ]
     },
     "execution_count": 15,
     "metadata": {},
     "output_type": "execute_result"
    }
   ],
   "source": [
    "requests.get('http://127.0.0.1:5000/api/available_opt_params', json={'model_type': 'LR'}).json()"
   ]
  },
  {
   "cell_type": "markdown",
   "metadata": {},
   "source": [
    "### 7.2 Некорректный тип модели"
   ]
  },
  {
   "cell_type": "code",
   "execution_count": 16,
   "metadata": {
    "ExecuteTime": {
     "end_time": "2021-11-01T08:47:06.594822Z",
     "start_time": "2021-11-01T08:47:06.582886Z"
    }
   },
   "outputs": [
    {
     "name": "stdout",
     "output_type": "stream",
     "text": [
      "Wrong model type Tree \n",
      "Available model types: ['LogisticRegression (LR)', 'Boosting (LGBM)']\n"
     ]
    }
   ],
   "source": [
    "print(requests.get('http://127.0.0.1:5000/api/available_opt_params', json={'model_type': 'Tree'}).text)"
   ]
  },
  {
   "cell_type": "markdown",
   "metadata": {},
   "source": [
    "### 7.3 Ввод без словаря"
   ]
  },
  {
   "cell_type": "code",
   "execution_count": 17,
   "metadata": {
    "ExecuteTime": {
     "end_time": "2021-11-01T08:47:07.011902Z",
     "start_time": "2021-11-01T08:47:06.985029Z"
    }
   },
   "outputs": [
    {
     "name": "stdout",
     "output_type": "stream",
     "text": [
      "Dictionary should be passed  \n",
      "Available model types: ['LogisticRegression (LR)', 'Boosting (LGBM)']\n"
     ]
    }
   ],
   "source": [
    "print(requests.get('http://127.0.0.1:5000/api/available_opt_params').text)"
   ]
  },
  {
   "cell_type": "markdown",
   "metadata": {},
   "source": [
    "# 8. Оптимизация гиперпараметров"
   ]
  },
  {
   "cell_type": "markdown",
   "metadata": {},
   "source": [
    "### 8.1 Правильная передача гиперпараметров"
   ]
  },
  {
   "cell_type": "code",
   "execution_count": 18,
   "metadata": {
    "ExecuteTime": {
     "end_time": "2021-11-01T08:47:20.722774Z",
     "start_time": "2021-11-01T08:47:07.497190Z"
    }
   },
   "outputs": [
    {
     "data": {
      "text/plain": [
       "{'params': {'C': 4.430149476886084,\n",
       "  'max_iter': 743,\n",
       "  'tol': 0.008319281678353038},\n",
       " 'score': 0.9177730504766369}"
      ]
     },
     "execution_count": 18,
     "metadata": {},
     "output_type": "execute_result"
    }
   ],
   "source": [
    "params_to_optimaze = {'C': [0, 10],\n",
    "                      'tol': [0.000001, 0.01],\n",
    "                      'max_iter': [10, 1000]}\n",
    "\n",
    "json = {'X': X_train,\n",
    "        'y': y_train,\n",
    "        'metric': 'auc_roc',\n",
    "        'params_to_optimaze':params_to_optimaze}\n",
    "\n",
    "requests.get('http://127.0.0.1:5000/api/optimize_model_params/2', json=json).json()"
   ]
  },
  {
   "cell_type": "code",
   "execution_count": 19,
   "metadata": {
    "ExecuteTime": {
     "end_time": "2021-11-01T08:47:34.459023Z",
     "start_time": "2021-11-01T08:47:20.726758Z"
    }
   },
   "outputs": [
    {
     "data": {
      "text/plain": [
       "{'params': {'boosting_type': 'goss',\n",
       "  'learning_rate': 0.17654558182151855,\n",
       "  'max_depth': 9,\n",
       "  'min_child_weight': 11,\n",
       "  'n_estimators': 87,\n",
       "  'n_jobs': 1,\n",
       "  'num_leaves': 21,\n",
       "  'reg_alpha': 0.10904593492709075,\n",
       "  'reg_lambda': 0.13007000566362034},\n",
       " 'score': 0.6678973067681985}"
      ]
     },
     "execution_count": 19,
     "metadata": {},
     "output_type": "execute_result"
    }
   ],
   "source": [
    "params_to_optimaze = {\n",
    "'boosting_type': ['goss'],\n",
    "'n_estimators': [10, 100],\n",
    "'learning_rate': [0.1, 0.2], \n",
    "'num_leaves': [10, 100],\n",
    "'max_depth': [1, 10],  \n",
    "'min_child_weight': [2, 100], \n",
    "'reg_alpha': [0.1, 0.2], \n",
    "'reg_lambda': [0.1, 0.2]\n",
    "}\n",
    "\n",
    "json = {'X': Xm_train,\n",
    "        'y': ym_train,\n",
    "        'metric': 'auc_pr',\n",
    "        'params_to_optimaze': params_to_optimaze,\n",
    "       'max_trails': 10}\n",
    "\n",
    "requests.get('http://127.0.0.1:5000/api/optimize_model_params/3', json=json).json()"
   ]
  },
  {
   "cell_type": "markdown",
   "metadata": {},
   "source": [
    "### 8.2 Неправильная передача гиперпараметров"
   ]
  },
  {
   "cell_type": "code",
   "execution_count": 20,
   "metadata": {
    "ExecuteTime": {
     "end_time": "2021-11-01T08:47:34.511496Z",
     "start_time": "2021-11-01T08:47:34.462049Z"
    }
   },
   "outputs": [
    {
     "data": {
      "text/plain": [
       "'Model with id - 1 doesnt exist'"
      ]
     },
     "execution_count": 20,
     "metadata": {},
     "output_type": "execute_result"
    }
   ],
   "source": [
    "params_to_optimaze = {'C': [1, 1, 1]}\n",
    "\n",
    "json = {'X': X_train,\n",
    "       'y': y_train,\n",
    "       'metric': 'f1',\n",
    "       'params_to_optimaze': params_to_optimaze}\n",
    "\n",
    "\n",
    "requests.get('http://127.0.0.1:5000/api/optimize_model_params/1', json=json).text"
   ]
  },
  {
   "cell_type": "markdown",
   "metadata": {},
   "source": [
    "# 9. fit"
   ]
  },
  {
   "cell_type": "markdown",
   "metadata": {},
   "source": [
    "### 9.1 Correct"
   ]
  },
  {
   "cell_type": "code",
   "execution_count": 21,
   "metadata": {
    "ExecuteTime": {
     "end_time": "2021-11-01T08:47:34.691743Z",
     "start_time": "2021-11-01T08:47:34.514488Z"
    }
   },
   "outputs": [
    {
     "name": "stdout",
     "output_type": "stream",
     "text": [
      "Success\n",
      "Success\n"
     ]
    }
   ],
   "source": [
    "print(requests.put('http://127.0.0.1:5000/api/fit/2', json={'X': X_train, 'y': y_train}).text)\n",
    "print(requests.put('http://127.0.0.1:5000/api/fit/3', json={'X': Xm_train, 'y': ym_train}).text)"
   ]
  },
  {
   "cell_type": "markdown",
   "metadata": {},
   "source": [
    "### 9.2 Incorrect"
   ]
  },
  {
   "cell_type": "code",
   "execution_count": 22,
   "metadata": {
    "ExecuteTime": {
     "end_time": "2021-11-01T08:47:34.739677Z",
     "start_time": "2021-11-01T08:47:34.695731Z"
    }
   },
   "outputs": [
    {
     "name": "stdout",
     "output_type": "stream",
     "text": [
      "Model with id - 100 doesnt exist\n"
     ]
    }
   ],
   "source": [
    "print(requests.put('http://127.0.0.1:5000/api/fit/100', json={'X': X_train, 'y': y_train}).text)"
   ]
  },
  {
   "cell_type": "code",
   "execution_count": 23,
   "metadata": {
    "ExecuteTime": {
     "end_time": "2021-11-01T08:47:34.802981Z",
     "start_time": "2021-11-01T08:47:34.743060Z"
    }
   },
   "outputs": [
    {
     "name": "stdout",
     "output_type": "stream",
     "text": [
      "Model with id - 1 doesnt exist\n"
     ]
    }
   ],
   "source": [
    "print(requests.put('http://127.0.0.1:5000/api/fit/1', json={'X': X_train, 'y': X_train}).text)"
   ]
  },
  {
   "cell_type": "markdown",
   "metadata": {},
   "source": [
    "# 10. predict"
   ]
  },
  {
   "cell_type": "markdown",
   "metadata": {
    "ExecuteTime": {
     "end_time": "2021-10-29T13:14:55.556107Z",
     "start_time": "2021-10-29T13:14:55.552142Z"
    }
   },
   "source": [
    "### 10.1 Correct"
   ]
  },
  {
   "cell_type": "code",
   "execution_count": 24,
   "metadata": {
    "ExecuteTime": {
     "end_time": "2021-11-01T08:47:34.836094Z",
     "start_time": "2021-11-01T08:47:34.805968Z"
    }
   },
   "outputs": [],
   "source": [
    "preds = requests.put('http://127.0.0.1:5000/api/predict/3', json={'X': Xm_test}).json()"
   ]
  },
  {
   "cell_type": "markdown",
   "metadata": {},
   "source": [
    "### 10.2 Incorrect"
   ]
  },
  {
   "cell_type": "code",
   "execution_count": 25,
   "metadata": {
    "ExecuteTime": {
     "end_time": "2021-11-01T08:47:34.867452Z",
     "start_time": "2021-11-01T08:47:34.841421Z"
    }
   },
   "outputs": [
    {
     "name": "stdout",
     "output_type": "stream",
     "text": [
      "Model not fitted yet, fit first\n"
     ]
    }
   ],
   "source": [
    "print(requests.put('http://127.0.0.1:5000/api/predict/4', json={'X': X_test}).text)"
   ]
  },
  {
   "cell_type": "markdown",
   "metadata": {},
   "source": [
    "# 11. predict_proba"
   ]
  },
  {
   "cell_type": "markdown",
   "metadata": {},
   "source": [
    "### 11.1 Correct"
   ]
  },
  {
   "cell_type": "code",
   "execution_count": 26,
   "metadata": {
    "ExecuteTime": {
     "end_time": "2021-11-01T08:47:34.927359Z",
     "start_time": "2021-11-01T08:47:34.870921Z"
    }
   },
   "outputs": [],
   "source": [
    "preds_proba = requests.put('http://127.0.0.1:5000/api/predict_proba/3', json={'X': Xm_test}).json()\n",
    "preds_proba = requests.put('http://127.0.0.1:5000/api/predict_proba/2', json={'X': X_test}).json()"
   ]
  },
  {
   "cell_type": "markdown",
   "metadata": {},
   "source": [
    "### 11.2 Incorrect"
   ]
  },
  {
   "cell_type": "code",
   "execution_count": 27,
   "metadata": {
    "ExecuteTime": {
     "end_time": "2021-11-01T08:47:34.960276Z",
     "start_time": "2021-11-01T08:47:34.930692Z"
    }
   },
   "outputs": [
    {
     "name": "stdout",
     "output_type": "stream",
     "text": [
      "Model not fitted yet, fit first\n"
     ]
    }
   ],
   "source": [
    "print(requests.put('http://127.0.0.1:5000/api/predict/4', json={'X': X_test}).text)"
   ]
  },
  {
   "cell_type": "code",
   "execution_count": 28,
   "metadata": {
    "ExecuteTime": {
     "end_time": "2021-11-01T08:47:34.992358Z",
     "start_time": "2021-11-01T08:47:34.964819Z"
    }
   },
   "outputs": [
    {
     "data": {
      "text/plain": [
       "'Model not fitted yet, fit first'"
      ]
     },
     "execution_count": 28,
     "metadata": {},
     "output_type": "execute_result"
    }
   ],
   "source": [
    "requests.put('http://127.0.0.1:5000/api/predict/4', json={'X': X_test}).text"
   ]
  },
  {
   "cell_type": "markdown",
   "metadata": {},
   "source": [
    "# 12. получение метрик качеств"
   ]
  },
  {
   "cell_type": "markdown",
   "metadata": {},
   "source": [
    "### 12.1 Correct"
   ]
  },
  {
   "cell_type": "code",
   "execution_count": 30,
   "metadata": {
    "ExecuteTime": {
     "end_time": "2021-11-01T08:47:48.745150Z",
     "start_time": "2021-11-01T08:47:48.330519Z"
    }
   },
   "outputs": [
    {
     "data": {
      "text/plain": [
       "{'dataset_name': 'binary',\n",
       " 'model': 'Fitted',\n",
       " 'model_id': 2,\n",
       " 'model_name': '',\n",
       " 'model_params': {'C': 4.430149476886084,\n",
       "  'max_iter': 743,\n",
       "  'tol': 0.008319281678353038},\n",
       " 'model_type': 'LogisticRegression (LR)',\n",
       " 'scores': {'ROC_AUC': 0.9523952395239524,\n",
       "  'ROC_PR': 0.9547064924456269,\n",
       "  'accuracy': 0.885,\n",
       "  'f1': 0.8848589522164652,\n",
       "  'precision': 0.8860899237254115,\n",
       "  'recall': 0.8847384738473847}}"
      ]
     },
     "execution_count": 30,
     "metadata": {},
     "output_type": "execute_result"
    }
   ],
   "source": [
    "json = {'y_true': y_test, \n",
    "        'X': X_test, \n",
    "        'plot':True}\n",
    "\n",
    "requests.get('http://127.0.0.1:5000/api/get_scores/2', json=json).json()"
   ]
  },
  {
   "cell_type": "code",
   "execution_count": 31,
   "metadata": {
    "ExecuteTime": {
     "end_time": "2021-11-01T08:47:49.432931Z",
     "start_time": "2021-11-01T08:47:49.389741Z"
    }
   },
   "outputs": [
    {
     "data": {
      "text/plain": [
       "{'dataset_name': 'multiclass',\n",
       " 'model': 'Fitted',\n",
       " 'model_id': 3,\n",
       " 'model_name': '',\n",
       " 'model_params': {'boosting_type': 'goss',\n",
       "  'learning_rate': 0.17654558182151855,\n",
       "  'max_depth': 9,\n",
       "  'min_child_weight': 11,\n",
       "  'n_estimators': 87,\n",
       "  'n_jobs': 1,\n",
       "  'num_leaves': 21,\n",
       "  'random_state': 42,\n",
       "  'reg_alpha': 0.10904593492709075,\n",
       "  'reg_lambda': 0.13007000566362034},\n",
       " 'model_type': 'Boosting (LGBM)',\n",
       " 'scores': {'accuracy': 0.73,\n",
       "  'f1': 0.7298112611545448,\n",
       "  'precision': 0.7315904139433552,\n",
       "  'recall': 0.7296494355317885}}"
      ]
     },
     "execution_count": 31,
     "metadata": {},
     "output_type": "execute_result"
    }
   ],
   "source": [
    "json = {'y_true': ym_test, \n",
    "        'X': Xm_test}\n",
    "\n",
    "requests.get('http://127.0.0.1:5000/api/get_scores/3', json=json).json()"
   ]
  },
  {
   "cell_type": "markdown",
   "metadata": {},
   "source": [
    "### 12.2 Incorrect"
   ]
  },
  {
   "cell_type": "code",
   "execution_count": 32,
   "metadata": {
    "ExecuteTime": {
     "end_time": "2021-11-01T08:47:50.394667Z",
     "start_time": "2021-11-01T08:47:50.373855Z"
    }
   },
   "outputs": [
    {
     "name": "stdout",
     "output_type": "stream",
     "text": [
      "At least y_predicted or X should be filled\n"
     ]
    }
   ],
   "source": [
    "json = {'y_true': ym_test,\n",
    "       'plot': True}\n",
    "\n",
    "print(requests.get('http://127.0.0.1:5000/api/get_scores/3', json=json).text)"
   ]
  },
  {
   "cell_type": "markdown",
   "metadata": {
    "ExecuteTime": {
     "end_time": "2021-10-29T10:23:17.704857Z",
     "start_time": "2021-10-29T10:23:17.697877Z"
    }
   },
   "source": [
    "# 13. AUC plot"
   ]
  },
  {
   "cell_type": "markdown",
   "metadata": {
    "ExecuteTime": {
     "end_time": "2021-10-29T13:16:02.444625Z",
     "start_time": "2021-10-29T13:16:02.440625Z"
    }
   },
   "source": [
    "### 13.1 Correct"
   ]
  },
  {
   "cell_type": "code",
   "execution_count": 33,
   "metadata": {
    "ExecuteTime": {
     "end_time": "2021-11-01T08:47:51.612586Z",
     "start_time": "2021-11-01T08:47:51.459046Z"
    }
   },
   "outputs": [
    {
     "data": {
      "image/png": "[encoded data removed]",
      "text/plain": [
       "<PIL.PngImagePlugin.PngImageFile image mode=RGBA size=1600x800 at 0x19DE541BD90>"
      ]
     },
     "execution_count": 33,
     "metadata": {},
     "output_type": "execute_result"
    }
   ],
   "source": [
    "image = requests.get('http://127.0.0.1:5000/api/get_auc_plot/2', stream=True)\n",
    "\n",
    "with open('AUC_model_1.png', 'wb') as out_file:\n",
    "    shutil.copyfileobj(image.raw, out_file)\n",
    "    \n",
    "im = Image.open(\"AUC_model_1.png\")\n",
    "im"
   ]
  },
  {
   "cell_type": "markdown",
   "metadata": {
    "ExecuteTime": {
     "end_time": "2021-10-29T13:16:09.727369Z",
     "start_time": "2021-10-29T13:16:09.721386Z"
    }
   },
   "source": [
    "### 13.2 Incorrect"
   ]
  },
  {
   "cell_type": "code",
   "execution_count": 34,
   "metadata": {
    "ExecuteTime": {
     "end_time": "2021-11-01T08:47:52.772443Z",
     "start_time": "2021-11-01T08:47:52.747105Z"
    }
   },
   "outputs": [
    {
     "name": "stdout",
     "output_type": "stream",
     "text": [
      "get_scores should be called first (only for binary task)\n"
     ]
    }
   ],
   "source": [
    "print(requests.get('http://127.0.0.1:5000/api/get_auc_plot/3', stream=True).text)"
   ]
  },
  {
   "cell_type": "code",
   "execution_count": null,
   "metadata": {},
   "outputs": [],
   "source": []
  }
 ],
 "metadata": {
  "kernelspec": {
   "display_name": "Python 3",
   "language": "python",
   "name": "python3"
  },
  "language_info": {
   "codemirror_mode": {
    "name": "ipython",
    "version": 3
   },
   "file_extension": ".py",
   "mimetype": "text/x-python",
   "name": "python",
   "nbconvert_exporter": "python",
   "pygments_lexer": "ipython3",
   "version": "3.8.5"
  }
 },
 "nbformat": 4,
 "nbformat_minor": 4
}
