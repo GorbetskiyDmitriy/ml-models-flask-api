{
 "cells": [
  {
   "cell_type": "code",
   "execution_count": 1,
   "metadata": {
    "ExecuteTime": {
     "end_time": "2021-10-29T15:19:35.326443Z",
     "start_time": "2021-10-29T15:19:32.625516Z"
    }
   },
   "outputs": [],
   "source": [
    "import requests\n",
    "from sklearn.datasets import make_classification\n",
    "import numpy as np\n",
    "import pandas as pd\n",
    "import shutil\n",
    "from PIL import Image\n",
    "\n",
    "from sklearn.model_selection import train_test_split"
   ]
  },
  {
   "cell_type": "code",
   "execution_count": 2,
   "metadata": {
    "ExecuteTime": {
     "end_time": "2021-10-29T15:19:35.375586Z",
     "start_time": "2021-10-29T15:19:35.329401Z"
    }
   },
   "outputs": [],
   "source": [
    "X, y = make_classification(n_samples=1000, n_features=4, n_classes=2, n_informative=2, random_state=42)\n",
    "X_multi, y_multi = make_classification(n_samples=500, n_features=6, n_classes=3, n_informative=6,\n",
    "                                      n_redundant=0, random_state=42)\n",
    "\n",
    "X_train, X_test, y_train, y_test = train_test_split(X, y, test_size=0.2, random_state=42)\n",
    "\n",
    "Xm_train, Xm_test, ym_train, ym_test = train_test_split(X_multi, y_multi, test_size=0.2, random_state=42,\n",
    "                                                       stratify=y_multi)\n",
    "\n",
    "\n",
    "X_train, X_test, y_train, y_test = pd.DataFrame(X_train).to_dict(), pd.DataFrame(X_test).to_dict(), \\\n",
    "                                   pd.DataFrame(y_train).to_dict(), pd.DataFrame(y_test).to_dict()\n",
    "\n",
    "Xm_train, Xm_test, ym_train, ym_test = pd.DataFrame(Xm_train).to_dict(), pd.DataFrame(Xm_test).to_dict(), \\\n",
    "                                       pd.DataFrame(ym_train).to_dict(), pd.DataFrame(ym_test).to_dict()"
   ]
  },
  {
   "cell_type": "markdown",
   "metadata": {},
   "source": [
    "# 1. Доступные типы моделей:"
   ]
  },
  {
   "cell_type": "code",
   "execution_count": 3,
   "metadata": {
    "ExecuteTime": {
     "end_time": "2021-10-29T15:19:35.403480Z",
     "start_time": "2021-10-29T15:19:35.383543Z"
    }
   },
   "outputs": [
    {
     "name": "stdout",
     "output_type": "stream",
     "text": [
      "Available model types: ['LogisticRegression (LR)', 'Boosting (LGBM)']\n"
     ]
    }
   ],
   "source": [
    "print(requests.get('http://127.0.0.1:5000/api/model_types').text)"
   ]
  },
  {
   "cell_type": "markdown",
   "metadata": {},
   "source": [
    "# 2. Создание моделей"
   ]
  },
  {
   "cell_type": "markdown",
   "metadata": {},
   "source": [
    "### 2.1 Корректный запрос, но с ошибкой в переменной"
   ]
  },
  {
   "cell_type": "code",
   "execution_count": 4,
   "metadata": {
    "ExecuteTime": {
     "end_time": "2021-10-29T15:19:35.432401Z",
     "start_time": "2021-10-29T15:19:35.407467Z"
    }
   },
   "outputs": [
    {
     "name": "stdout",
     "output_type": "stream",
     "text": [
      "Success\n",
      "Success\n",
      "Success\n"
     ]
    }
   ],
   "source": [
    "print(requests.post('http://127.0.0.1:5000/api/create_model', json={\n",
    "    'model_type': 'LR',\n",
    "    'model_nae': 'LR',\n",
    "    'dataset_name': 'binary'\n",
    "}).text)\n",
    "\n",
    "print(requests.post('http://127.0.0.1:5000/api/create_model', json={\n",
    "    'model_type': 'boosting',\n",
    "    'dataset_name': 'multiclass'\n",
    "}).text)\n",
    "\n",
    "print(requests.post('http://127.0.0.1:5000/api/create_model', json={\n",
    "    'model_name': 'fit_test',\n",
    "    'model_type': 'LogisticRegression (LR)'\n",
    "}).text)"
   ]
  },
  {
   "cell_type": "markdown",
   "metadata": {},
   "source": [
    "### 2.2 Некорректный запрос"
   ]
  },
  {
   "cell_type": "code",
   "execution_count": 5,
   "metadata": {
    "ExecuteTime": {
     "end_time": "2021-10-29T15:19:35.450359Z",
     "start_time": "2021-10-29T15:19:35.434395Z"
    }
   },
   "outputs": [
    {
     "name": "stdout",
     "output_type": "stream",
     "text": [
      "Wrong model type Tree\n",
      "Available model types: ['LogisticRegression (LR)', 'Boosting (LGBM)']\n"
     ]
    }
   ],
   "source": [
    "print(requests.post('http://127.0.0.1:5000/api/create_model', json={\n",
    "    'model_type': 'Tree',\n",
    "    'model_name': 'test_name',\n",
    "    'dataset_name': 'test_name'\n",
    "}).text)"
   ]
  },
  {
   "cell_type": "markdown",
   "metadata": {},
   "source": [
    "# 3. Принт доступных моделей"
   ]
  },
  {
   "cell_type": "markdown",
   "metadata": {},
   "source": [
    "### 3.1 Несуществующая модель"
   ]
  },
  {
   "cell_type": "code",
   "execution_count": 6,
   "metadata": {
    "ExecuteTime": {
     "end_time": "2021-10-29T15:19:35.466310Z",
     "start_time": "2021-10-29T15:19:35.452348Z"
    }
   },
   "outputs": [
    {
     "name": "stdout",
     "output_type": "stream",
     "text": [
      "Model with id - 20 doesnt exist\n"
     ]
    }
   ],
   "source": [
    "r = requests.get('http://127.0.0.1:5000/api/get_model/20')\n",
    "try: \n",
    "    print(r.json())\n",
    "except:\n",
    "    print(r.text)"
   ]
  },
  {
   "cell_type": "markdown",
   "metadata": {},
   "source": [
    "### 3.2. Правильный id модели"
   ]
  },
  {
   "cell_type": "code",
   "execution_count": 7,
   "metadata": {
    "ExecuteTime": {
     "end_time": "2021-10-29T15:19:35.531052Z",
     "start_time": "2021-10-29T15:19:35.471297Z"
    }
   },
   "outputs": [
    {
     "data": {
      "text/plain": [
       "{'dataset_name': 'binary',\n",
       " 'model': 'Not fitted',\n",
       " 'model_id': 2,\n",
       " 'model_name': '',\n",
       " 'model_params': {'random_state': 42},\n",
       " 'model_type': 'LogisticRegression (LR)',\n",
       " 'scores': {}}"
      ]
     },
     "execution_count": 7,
     "metadata": {},
     "output_type": "execute_result"
    }
   ],
   "source": [
    "requests.get('http://127.0.0.1:5000/api/get_model/2').json()"
   ]
  },
  {
   "cell_type": "markdown",
   "metadata": {},
   "source": [
    "# 4. Обновление модели"
   ]
  },
  {
   "cell_type": "markdown",
   "metadata": {},
   "source": [
    "### 4.1. Вызов без словаря"
   ]
  },
  {
   "cell_type": "code",
   "execution_count": 8,
   "metadata": {
    "ExecuteTime": {
     "end_time": "2021-10-29T15:19:35.545978Z",
     "start_time": "2021-10-29T15:19:35.535008Z"
    }
   },
   "outputs": [
    {
     "name": "stdout",
     "output_type": "stream",
     "text": [
      "Dictionary should be passed.\n"
     ]
    }
   ],
   "source": [
    "print(requests.put('http://127.0.0.1:5000/api/update_model').text)"
   ]
  },
  {
   "cell_type": "markdown",
   "metadata": {},
   "source": [
    "### 4.2. Вызов с некорректным словарем"
   ]
  },
  {
   "cell_type": "code",
   "execution_count": 9,
   "metadata": {
    "ExecuteTime": {
     "end_time": "2021-10-29T15:19:35.561937Z",
     "start_time": "2021-10-29T15:19:35.547974Z"
    }
   },
   "outputs": [
    {
     "name": "stdout",
     "output_type": "stream",
     "text": [
      "Incorrect dictionary passed.\n"
     ]
    }
   ],
   "source": [
    "print(requests.put('http://127.0.0.1:5000/api/update_model', json={\n",
    "    'model_type': 'test',\n",
    "    'dataset_name': 'multi_class'\n",
    "}).text)"
   ]
  },
  {
   "cell_type": "markdown",
   "metadata": {},
   "source": [
    "### 4.3 Корректный вызов"
   ]
  },
  {
   "cell_type": "code",
   "execution_count": 10,
   "metadata": {
    "ExecuteTime": {
     "end_time": "2021-10-29T15:19:35.595846Z",
     "start_time": "2021-10-29T15:19:35.565926Z"
    }
   },
   "outputs": [
    {
     "name": "stdout",
     "output_type": "stream",
     "text": [
      "Success, but [\"Model attributes: ['model_type'] is not allowed to change\"]\n"
     ]
    }
   ],
   "source": [
    "print(requests.put('http://127.0.0.1:5000/api/update_model', json={\n",
    "    'model_id': 1,\n",
    "    'model_type': 'test',\n",
    "    'dataset_name': 'test_2'\n",
    "}).text)"
   ]
  },
  {
   "cell_type": "markdown",
   "metadata": {},
   "source": [
    "# 5. Удаление модели"
   ]
  },
  {
   "cell_type": "markdown",
   "metadata": {},
   "source": [
    "### 5.1 Correct"
   ]
  },
  {
   "cell_type": "code",
   "execution_count": 11,
   "metadata": {
    "ExecuteTime": {
     "end_time": "2021-10-29T15:19:35.617795Z",
     "start_time": "2021-10-29T15:19:35.598854Z"
    }
   },
   "outputs": [
    {
     "name": "stdout",
     "output_type": "stream",
     "text": [
      "Success\n"
     ]
    }
   ],
   "source": [
    "print(requests.delete('http://127.0.0.1:5000/api/delete_model/1').text)"
   ]
  },
  {
   "cell_type": "markdown",
   "metadata": {},
   "source": [
    "### 5.2 Incorrect"
   ]
  },
  {
   "cell_type": "code",
   "execution_count": 12,
   "metadata": {
    "ExecuteTime": {
     "end_time": "2021-10-29T15:19:35.638734Z",
     "start_time": "2021-10-29T15:19:35.620781Z"
    }
   },
   "outputs": [
    {
     "name": "stdout",
     "output_type": "stream",
     "text": [
      "Success\n"
     ]
    }
   ],
   "source": [
    "print(requests.delete('http://127.0.0.1:5000/api/delete_model/5').text)"
   ]
  },
  {
   "cell_type": "markdown",
   "metadata": {},
   "source": [
    "# 6. Установление гиперпараметров вручную"
   ]
  },
  {
   "cell_type": "markdown",
   "metadata": {},
   "source": [
    "### 6.1 Корректные гиперпараметры"
   ]
  },
  {
   "cell_type": "code",
   "execution_count": 13,
   "metadata": {
    "ExecuteTime": {
     "end_time": "2021-10-29T15:19:35.661673Z",
     "start_time": "2021-10-29T15:19:35.642728Z"
    }
   },
   "outputs": [
    {
     "name": "stdout",
     "output_type": "stream",
     "text": [
      "Success\n"
     ]
    }
   ],
   "source": [
    "print(requests.put('http://127.0.0.1:5000/api/set_model_params/2', json={'C': 2}).text)"
   ]
  },
  {
   "cell_type": "markdown",
   "metadata": {},
   "source": [
    "### 6.2 Некорректные гиперпараметры"
   ]
  },
  {
   "cell_type": "code",
   "execution_count": 14,
   "metadata": {
    "ExecuteTime": {
     "end_time": "2021-10-29T15:19:35.698571Z",
     "start_time": "2021-10-29T15:19:35.663666Z"
    }
   },
   "outputs": [
    {
     "name": "stdout",
     "output_type": "stream",
     "text": [
      "Wrong params for model\n"
     ]
    }
   ],
   "source": [
    "print(requests.put('http://127.0.0.1:5000/api/set_model_params/2', json={'abc': -1}).text)"
   ]
  },
  {
   "cell_type": "markdown",
   "metadata": {},
   "source": [
    "# 7. Доступные для оптимазации гиперпараметры"
   ]
  },
  {
   "cell_type": "markdown",
   "metadata": {},
   "source": [
    "### 7.1 Корректный тип модели"
   ]
  },
  {
   "cell_type": "code",
   "execution_count": 15,
   "metadata": {
    "ExecuteTime": {
     "end_time": "2021-10-29T15:19:35.715536Z",
     "start_time": "2021-10-29T15:19:35.701563Z"
    }
   },
   "outputs": [
    {
     "data": {
      "text/plain": [
       "['C', 'tol', 'max_iter']"
      ]
     },
     "execution_count": 15,
     "metadata": {},
     "output_type": "execute_result"
    }
   ],
   "source": [
    "requests.get('http://127.0.0.1:5000/api/available_opt_params', json={'model_type': 'LR'}).json()"
   ]
  },
  {
   "cell_type": "markdown",
   "metadata": {},
   "source": [
    "### 7.2 Некорректный тип модели"
   ]
  },
  {
   "cell_type": "code",
   "execution_count": 16,
   "metadata": {
    "ExecuteTime": {
     "end_time": "2021-10-29T15:19:35.735477Z",
     "start_time": "2021-10-29T15:19:35.718518Z"
    }
   },
   "outputs": [
    {
     "name": "stdout",
     "output_type": "stream",
     "text": [
      "Wrong model type Tree \n",
      "Available model types: ['LogisticRegression (LR)', 'Boosting (LGBM)']\n"
     ]
    }
   ],
   "source": [
    "print(requests.get('http://127.0.0.1:5000/api/available_opt_params', json={'model_type': 'Tree'}).text)"
   ]
  },
  {
   "cell_type": "markdown",
   "metadata": {},
   "source": [
    "### 7.3 Ввод без словаря"
   ]
  },
  {
   "cell_type": "code",
   "execution_count": 17,
   "metadata": {
    "ExecuteTime": {
     "end_time": "2021-10-29T15:19:35.753442Z",
     "start_time": "2021-10-29T15:19:35.737467Z"
    }
   },
   "outputs": [
    {
     "name": "stdout",
     "output_type": "stream",
     "text": [
      "Dictionary should be passed  \n",
      "Available model types: ['LogisticRegression (LR)', 'Boosting (LGBM)']\n"
     ]
    }
   ],
   "source": [
    "print(requests.get('http://127.0.0.1:5000/api/available_opt_params').text)"
   ]
  },
  {
   "cell_type": "markdown",
   "metadata": {},
   "source": [
    "# 8. Оптимизация гиперпараметров"
   ]
  },
  {
   "cell_type": "markdown",
   "metadata": {},
   "source": [
    "### 8.1 Правильная передача гиперпараметров"
   ]
  },
  {
   "cell_type": "code",
   "execution_count": 18,
   "metadata": {
    "ExecuteTime": {
     "end_time": "2021-10-29T15:19:46.257950Z",
     "start_time": "2021-10-29T15:19:35.756417Z"
    }
   },
   "outputs": [
    {
     "data": {
      "text/plain": [
       "{'params': {'C': 9.326025198925741,\n",
       "  'max_iter': 310,\n",
       "  'tol': 0.00015262252469876934},\n",
       " 'score': 0.531174807587123}"
      ]
     },
     "execution_count": 18,
     "metadata": {},
     "output_type": "execute_result"
    }
   ],
   "source": [
    "params_to_optimaze = {'C': [0, 10],\n",
    "                      'tol': [0.000001, 0.01],\n",
    "                      'max_iter': [10, 1000]}\n",
    "\n",
    "json = {'X': X_train,\n",
    "        'y': y_train,\n",
    "        'metric': 'auc_roc',\n",
    "        'params_to_optimaze':params_to_optimaze}\n",
    "\n",
    "requests.get('http://127.0.0.1:5000/api/optimize_model_params/2', json=json).json()"
   ]
  },
  {
   "cell_type": "code",
   "execution_count": 19,
   "metadata": {
    "ExecuteTime": {
     "end_time": "2021-10-29T15:20:01.623412Z",
     "start_time": "2021-10-29T15:19:46.261936Z"
    }
   },
   "outputs": [
    {
     "data": {
      "text/plain": [
       "{'params': {'boosting_type': 'goss',\n",
       "  'learning_rate': 0.19830208668523405,\n",
       "  'max_depth': 9,\n",
       "  'min_child_weight': 17,\n",
       "  'n_estimators': 44,\n",
       "  'n_jobs': 1,\n",
       "  'num_leaves': 87,\n",
       "  'reg_alpha': 0.13925292439465875,\n",
       "  'reg_lambda': 0.10934603745586503},\n",
       " 'score': 0.36901908889477897}"
      ]
     },
     "execution_count": 19,
     "metadata": {},
     "output_type": "execute_result"
    }
   ],
   "source": [
    "params_to_optimaze = {\n",
    "'boosting_type': ['goss'],\n",
    "'n_estimators': [10, 100],\n",
    "'learning_rate': [0.1, 0.2], \n",
    "'num_leaves': [10, 100],\n",
    "'max_depth': [1, 10],  \n",
    "'min_child_weight': [2, 100], \n",
    "'reg_alpha': [0.1, 0.2], \n",
    "'reg_lambda': [0.1, 0.2]\n",
    "}\n",
    "\n",
    "json = {'X': Xm_train,\n",
    "        'y': ym_train,\n",
    "        'metric': 'auc_pr',\n",
    "        'params_to_optimaze': params_to_optimaze,\n",
    "       'max_trails': 10}\n",
    "\n",
    "requests.get('http://127.0.0.1:5000/api/optimize_model_params/3', json=json).json()"
   ]
  },
  {
   "cell_type": "markdown",
   "metadata": {},
   "source": [
    "### 8.2 Неправильная передача гиперпараметров"
   ]
  },
  {
   "cell_type": "code",
   "execution_count": 20,
   "metadata": {
    "ExecuteTime": {
     "end_time": "2021-10-29T15:20:01.675227Z",
     "start_time": "2021-10-29T15:20:01.629348Z"
    }
   },
   "outputs": [
    {
     "data": {
      "text/plain": [
       "'Model with id - 1 doesnt exist'"
      ]
     },
     "execution_count": 20,
     "metadata": {},
     "output_type": "execute_result"
    }
   ],
   "source": [
    "params_to_optimaze = {'C': [1, 1, 1]}\n",
    "\n",
    "json = {'X': X_train,\n",
    "       'y': y_train,\n",
    "       'metric': 'f1',\n",
    "       'params_to_optimaze': params_to_optimaze}\n",
    "\n",
    "\n",
    "requests.get('http://127.0.0.1:5000/api/optimize_model_params/1', json=json).text"
   ]
  },
  {
   "cell_type": "markdown",
   "metadata": {},
   "source": [
    "# 9. fit"
   ]
  },
  {
   "cell_type": "markdown",
   "metadata": {},
   "source": [
    "### 9.1 Correct"
   ]
  },
  {
   "cell_type": "code",
   "execution_count": 21,
   "metadata": {
    "ExecuteTime": {
     "end_time": "2021-10-29T15:20:01.745074Z",
     "start_time": "2021-10-29T15:20:01.676220Z"
    }
   },
   "outputs": [
    {
     "name": "stdout",
     "output_type": "stream",
     "text": [
      "Success\n",
      "Success\n"
     ]
    }
   ],
   "source": [
    "print(requests.put('http://127.0.0.1:5000/api/fit/2', json={'X': X_train, 'y': y_train}).text)\n",
    "print(requests.put('http://127.0.0.1:5000/api/fit/3', json={'X': Xm_train, 'y': ym_train}).text)"
   ]
  },
  {
   "cell_type": "markdown",
   "metadata": {},
   "source": [
    "### 9.2 Incorrect"
   ]
  },
  {
   "cell_type": "code",
   "execution_count": 22,
   "metadata": {
    "ExecuteTime": {
     "end_time": "2021-10-29T15:20:01.769968Z",
     "start_time": "2021-10-29T15:20:01.749024Z"
    }
   },
   "outputs": [
    {
     "name": "stdout",
     "output_type": "stream",
     "text": [
      "Model with id - 100 doesnt exist\n"
     ]
    }
   ],
   "source": [
    "print(requests.put('http://127.0.0.1:5000/api/fit/100', json={'X': X_train, 'y': y_train}).text)"
   ]
  },
  {
   "cell_type": "code",
   "execution_count": 23,
   "metadata": {
    "ExecuteTime": {
     "end_time": "2021-10-29T15:20:01.801917Z",
     "start_time": "2021-10-29T15:20:01.771963Z"
    }
   },
   "outputs": [
    {
     "name": "stdout",
     "output_type": "stream",
     "text": [
      "Model with id - 1 doesnt exist\n"
     ]
    }
   ],
   "source": [
    "print(requests.put('http://127.0.0.1:5000/api/fit/1', json={'X': X_train, 'y': X_train}).text)"
   ]
  },
  {
   "cell_type": "markdown",
   "metadata": {},
   "source": [
    "# 10. predict"
   ]
  },
  {
   "cell_type": "markdown",
   "metadata": {
    "ExecuteTime": {
     "end_time": "2021-10-29T13:14:55.556107Z",
     "start_time": "2021-10-29T13:14:55.552142Z"
    }
   },
   "source": [
    "### 10.1 Correct"
   ]
  },
  {
   "cell_type": "code",
   "execution_count": 24,
   "metadata": {
    "ExecuteTime": {
     "end_time": "2021-10-29T15:20:01.817875Z",
     "start_time": "2021-10-29T15:20:01.803880Z"
    }
   },
   "outputs": [],
   "source": [
    "preds = requests.put('http://127.0.0.1:5000/api/predict/3', json={'X': Xm_test}).json()"
   ]
  },
  {
   "cell_type": "markdown",
   "metadata": {},
   "source": [
    "### 10.2 Incorrect"
   ]
  },
  {
   "cell_type": "code",
   "execution_count": 25,
   "metadata": {
    "ExecuteTime": {
     "end_time": "2021-10-29T15:20:01.833806Z",
     "start_time": "2021-10-29T15:20:01.819834Z"
    }
   },
   "outputs": [
    {
     "name": "stdout",
     "output_type": "stream",
     "text": [
      "Model not fitted yet, fit first\n"
     ]
    }
   ],
   "source": [
    "print(requests.put('http://127.0.0.1:5000/api/predict/4', json={'X': X_test}).text)"
   ]
  },
  {
   "cell_type": "markdown",
   "metadata": {},
   "source": [
    "# 11. predict_proba"
   ]
  },
  {
   "cell_type": "markdown",
   "metadata": {},
   "source": [
    "### 11.1 Correct"
   ]
  },
  {
   "cell_type": "code",
   "execution_count": 26,
   "metadata": {
    "ExecuteTime": {
     "end_time": "2021-10-29T15:20:01.862545Z",
     "start_time": "2021-10-29T15:20:01.835795Z"
    }
   },
   "outputs": [],
   "source": [
    "preds_proba = requests.put('http://127.0.0.1:5000/api/predict_proba/3', json={'X': Xm_test}).json()\n",
    "preds_proba = requests.put('http://127.0.0.1:5000/api/predict_proba/2', json={'X': X_test}).json()"
   ]
  },
  {
   "cell_type": "markdown",
   "metadata": {},
   "source": [
    "### 11.2 Incorrect"
   ]
  },
  {
   "cell_type": "code",
   "execution_count": 27,
   "metadata": {
    "ExecuteTime": {
     "end_time": "2021-10-29T15:20:01.880498Z",
     "start_time": "2021-10-29T15:20:01.864541Z"
    }
   },
   "outputs": [
    {
     "name": "stdout",
     "output_type": "stream",
     "text": [
      "Model not fitted yet, fit first\n"
     ]
    }
   ],
   "source": [
    "print(requests.put('http://127.0.0.1:5000/api/predict/4', json={'X': X_test}).text)"
   ]
  },
  {
   "cell_type": "code",
   "execution_count": 28,
   "metadata": {
    "ExecuteTime": {
     "end_time": "2021-10-29T15:20:01.899448Z",
     "start_time": "2021-10-29T15:20:01.882492Z"
    }
   },
   "outputs": [
    {
     "data": {
      "text/plain": [
       "'Model not fitted yet, fit first'"
      ]
     },
     "execution_count": 28,
     "metadata": {},
     "output_type": "execute_result"
    }
   ],
   "source": [
    "requests.put('http://127.0.0.1:5000/api/predict/4', json={'X': X_test}).text"
   ]
  },
  {
   "cell_type": "markdown",
   "metadata": {},
   "source": [
    "# 12. получение метрик качеств"
   ]
  },
  {
   "cell_type": "markdown",
   "metadata": {},
   "source": [
    "### 12.1 Correct"
   ]
  },
  {
   "cell_type": "code",
   "execution_count": 29,
   "metadata": {
    "ExecuteTime": {
     "end_time": "2021-10-29T15:20:02.545840Z",
     "start_time": "2021-10-29T15:20:01.901443Z"
    }
   },
   "outputs": [
    {
     "data": {
      "text/plain": [
       "{'dataset_name': 'binary',\n",
       " 'model': 'Fitted',\n",
       " 'model_id': 2,\n",
       " 'model_name': '',\n",
       " 'model_params': {'C': 9.326025198925741,\n",
       "  'max_iter': 310,\n",
       "  'tol': 0.00015262252469876934},\n",
       " 'model_type': 'LogisticRegression (LR)',\n",
       " 'scores': {'ROC_AUC': 0.05780578057805782,\n",
       "  'ROC_PR': 0.30886621716046253,\n",
       "  'accuracy': 0.14,\n",
       "  'f1': 0.13784461152882205,\n",
       "  'precision': 0.13614738333839457,\n",
       "  'recall': 0.1405140514051405}}"
      ]
     },
     "execution_count": 29,
     "metadata": {},
     "output_type": "execute_result"
    }
   ],
   "source": [
    "json = {'y_true': y_test, \n",
    "        'y_predicted': preds_proba, \n",
    "        'plot':True}\n",
    "\n",
    "requests.get('http://127.0.0.1:5000/api/get_scores/2', json=json).json()"
   ]
  },
  {
   "cell_type": "code",
   "execution_count": 30,
   "metadata": {
    "ExecuteTime": {
     "end_time": "2021-10-29T15:20:02.568776Z",
     "start_time": "2021-10-29T15:20:02.546835Z"
    }
   },
   "outputs": [
    {
     "data": {
      "text/plain": [
       "{'dataset_name': 'multiclass',\n",
       " 'model': 'Fitted',\n",
       " 'model_id': 3,\n",
       " 'model_name': '',\n",
       " 'model_params': {'boosting_type': 'goss',\n",
       "  'learning_rate': 0.19830208668523405,\n",
       "  'max_depth': 9,\n",
       "  'min_child_weight': 17,\n",
       "  'n_estimators': 44,\n",
       "  'n_jobs': 1,\n",
       "  'num_leaves': 87,\n",
       "  'random_state': 42,\n",
       "  'reg_alpha': 0.13925292439465875,\n",
       "  'reg_lambda': 0.10934603745586503},\n",
       " 'model_type': 'Boosting (LGBM)',\n",
       " 'scores': {'accuracy': 0.4,\n",
       "  'f1': 0.4044899817850638,\n",
       "  'precision': 0.4150793650793651,\n",
       "  'recall': 0.40047534165181226}}"
      ]
     },
     "execution_count": 30,
     "metadata": {},
     "output_type": "execute_result"
    }
   ],
   "source": [
    "json = {'y_true': ym_test, \n",
    "        'X': Xm_test}\n",
    "\n",
    "requests.get('http://127.0.0.1:5000/api/get_scores/3', json=json).json()"
   ]
  },
  {
   "cell_type": "markdown",
   "metadata": {},
   "source": [
    "### 12.2 Incorrect"
   ]
  },
  {
   "cell_type": "code",
   "execution_count": 31,
   "metadata": {
    "ExecuteTime": {
     "end_time": "2021-10-29T15:20:02.584739Z",
     "start_time": "2021-10-29T15:20:02.570772Z"
    }
   },
   "outputs": [
    {
     "name": "stdout",
     "output_type": "stream",
     "text": [
      "At least y_predicted or X should be filled\n"
     ]
    }
   ],
   "source": [
    "json = {'y_true': ym_test,\n",
    "       'plot': True}\n",
    "\n",
    "print(requests.get('http://127.0.0.1:5000/api/get_scores/3', json=json).text)"
   ]
  },
  {
   "cell_type": "markdown",
   "metadata": {
    "ExecuteTime": {
     "end_time": "2021-10-29T10:23:17.704857Z",
     "start_time": "2021-10-29T10:23:17.697877Z"
    }
   },
   "source": [
    "# 13. AUC plot"
   ]
  },
  {
   "cell_type": "markdown",
   "metadata": {
    "ExecuteTime": {
     "end_time": "2021-10-29T13:16:02.444625Z",
     "start_time": "2021-10-29T13:16:02.440625Z"
    }
   },
   "source": [
    "### 13.1 Correct"
   ]
  },
  {
   "cell_type": "code",
   "execution_count": 32,
   "metadata": {
    "ExecuteTime": {
     "end_time": "2021-10-29T15:20:02.768244Z",
     "start_time": "2021-10-29T15:20:02.586729Z"
    }
   },
   "outputs": [
    {
     "data": {
      "image/png": "[encoded data removed]",
      "text/plain": [
       "<PIL.PngImagePlugin.PngImageFile image mode=RGBA size=1600x800 at 0x1797F5B7AF0>"
      ]
     },
     "execution_count": 32,
     "metadata": {},
     "output_type": "execute_result"
    }
   ],
   "source": [
    "image = requests.get('http://127.0.0.1:5000/api/get_auc_plot/2', stream=True)\n",
    "\n",
    "with open('AUC_model_1.png', 'wb') as out_file:\n",
    "    shutil.copyfileobj(image.raw, out_file)\n",
    "    \n",
    "im = Image.open(\"AUC_model_1.png\")\n",
    "im"
   ]
  },
  {
   "cell_type": "markdown",
   "metadata": {
    "ExecuteTime": {
     "end_time": "2021-10-29T13:16:09.727369Z",
     "start_time": "2021-10-29T13:16:09.721386Z"
    }
   },
   "source": [
    "### 13.2 Incorrect"
   ]
  },
  {
   "cell_type": "code",
   "execution_count": 33,
   "metadata": {
    "ExecuteTime": {
     "end_time": "2021-10-29T15:20:02.782206Z",
     "start_time": "2021-10-29T15:20:02.770238Z"
    }
   },
   "outputs": [
    {
     "name": "stdout",
     "output_type": "stream",
     "text": [
      "get_scores should be called first (only for binary task)\n"
     ]
    }
   ],
   "source": [
    "print(requests.get('http://127.0.0.1:5000/api/get_auc_plot/3', stream=True).text)"
   ]
  }
 ],
 "metadata": {
  "kernelspec": {
   "display_name": "Python 3",
   "language": "python",
   "name": "python3"
  },
  "language_info": {
   "codemirror_mode": {
    "name": "ipython",
    "version": 3
   },
   "file_extension": ".py",
   "mimetype": "text/x-python",
   "name": "python",
   "nbconvert_exporter": "python",
   "pygments_lexer": "ipython3",
   "version": "3.8.5"
  }
 },
 "nbformat": 4,
 "nbformat_minor": 4
}
